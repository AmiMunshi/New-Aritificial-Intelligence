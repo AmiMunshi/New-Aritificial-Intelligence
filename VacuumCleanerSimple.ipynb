{
  "nbformat": 4,
  "nbformat_minor": 0,
  "metadata": {
    "colab": {
      "provenance": [],
      "authorship_tag": "ABX9TyOINKo8rZrZFaCR7hfwLwlQ",
      "include_colab_link": true
    },
    "kernelspec": {
      "name": "python3",
      "display_name": "Python 3"
    },
    "language_info": {
      "name": "python"
    }
  },
  "cells": [
    {
      "cell_type": "markdown",
      "metadata": {
        "id": "view-in-github",
        "colab_type": "text"
      },
      "source": [
        "<a href=\"https://colab.research.google.com/github/AmiMunshi/New-Aritificial-Intelligence/blob/main/VacuumCleanerSimple.ipynb\" target=\"_parent\"><img src=\"https://colab.research.google.com/assets/colab-badge.svg\" alt=\"Open In Colab\"/></a>"
      ]
    },
    {
      "cell_type": "code",
      "execution_count": null,
      "metadata": {
        "colab": {
          "base_uri": "https://localhost:8080/"
        },
        "id": "92RhYs99-xSd",
        "outputId": "82684002-7956-45af-d1f7-ff95149dfed4"
      },
      "outputs": [
        {
          "name": "stdout",
          "output_type": "stream",
          "text": [
            "Enter the room: A\n"
          ]
        }
      ],
      "source": [
        "room= input(\"Enter the room: \")"
      ]
    },
    {
      "cell_type": "code",
      "source": [
        "rooms= [1,0,1,1,0,1] #Taking 1 for clean and 0 for dirty\n",
        "n= len(rooms)"
      ],
      "metadata": {
        "id": "1m2vc_xA-6SN"
      },
      "execution_count": null,
      "outputs": []
    },
    {
      "cell_type": "code",
      "source": [
        "#Method 1\n",
        "for r in range(n):\n",
        "  if rooms[r]== 0:\n",
        "    rooms[r]=1\n",
        "\n",
        "\n",
        "print(rooms)\n"
      ],
      "metadata": {
        "colab": {
          "base_uri": "https://localhost:8080/"
        },
        "id": "obUfxmM6_oZ1",
        "outputId": "8070cfe4-ab04-44e5-8d1c-8665c990b43f"
      },
      "execution_count": null,
      "outputs": [
        {
          "output_type": "stream",
          "name": "stdout",
          "text": [
            "[1, 1, 1, 1, 1, 1]\n"
          ]
        }
      ]
    },
    {
      "cell_type": "code",
      "source": [
        "#Enter status of all the rooms from the user\n",
        "rooms= [int(i) for i in input(\"Enter 1 for clean and 0 for dirty for all the rooms\").split()]"
      ],
      "metadata": {
        "colab": {
          "base_uri": "https://localhost:8080/"
        },
        "id": "I8y9KN7VEjxq",
        "outputId": "9021ce0e-34f7-4bbc-b70c-a7362b1d1dcb"
      },
      "execution_count": null,
      "outputs": [
        {
          "name": "stdout",
          "output_type": "stream",
          "text": [
            "Enter 1 for clean and 0 for dirty for all the rooms1 1 1 0 0 1\n"
          ]
        }
      ]
    },
    {
      "cell_type": "code",
      "source": [
        "print(\"rooms"
      ],
      "metadata": {
        "colab": {
          "base_uri": "https://localhost:8080/"
        },
        "id": "3dKyBToxEzHQ",
        "outputId": "4d6f147f-cb7d-4e64-f99e-a7d640a4596f"
      },
      "execution_count": null,
      "outputs": [
        {
          "output_type": "execute_result",
          "data": {
            "text/plain": [
              "[1, 1, 1, 0, 0, 1]"
            ]
          },
          "metadata": {},
          "execution_count": 14
        }
      ]
    },
    {
      "cell_type": "code",
      "source": [
        "count=0\n",
        "cost=0\n",
        "for k in rooms:\n",
        "  \n",
        "  if k==0:\n",
        "    print(\"Room \", count, \" is dirty, needs cleaning\")\n",
        "    rooms[count]=1\n",
        "    cost+=1\n",
        "\n",
        "  else:\n",
        "    print(\"Room\", count, \" is clean\" )\n",
        "  count+=1\n",
        "print(\"The cost incurred is {}\".format(cost))"
      ],
      "metadata": {
        "colab": {
          "base_uri": "https://localhost:8080/"
        },
        "id": "_K8mh2qOBAy2",
        "outputId": "5e45833d-ee6f-4d8b-fdaa-fdd1f94e4f41"
      },
      "execution_count": null,
      "outputs": [
        {
          "output_type": "stream",
          "name": "stdout",
          "text": [
            "Room 0  is clean\n",
            "Room  1  is dirty, needs cleaning\n",
            "Room 2  is clean\n",
            "Room 3  is clean\n",
            "Room  4  is dirty, needs cleaning\n",
            "Room 5  is clean\n",
            "The cost incurred is 2\n"
          ]
        }
      ]
    },
    {
      "cell_type": "code",
      "source": [
        "print(rooms)"
      ],
      "metadata": {
        "colab": {
          "base_uri": "https://localhost:8080/"
        },
        "id": "WT1NKv8cCOH-",
        "outputId": "46eca7f9-93fd-490e-bfba-c6f3b9b43793"
      },
      "execution_count": null,
      "outputs": [
        {
          "output_type": "stream",
          "name": "stdout",
          "text": [
            "[1, 1, 1, 1, 1, 1]\n"
          ]
        }
      ]
    },
    {
      "cell_type": "code",
      "source": [],
      "metadata": {
        "id": "KBfyBo2WCPNq"
      },
      "execution_count": null,
      "outputs": []
    }
  ]
}